{
  "nbformat": 4,
  "nbformat_minor": 0,
  "metadata": {
    "colab": {
      "provenance": []
    },
    "kernelspec": {
      "name": "python3",
      "display_name": "Python 3"
    },
    "language_info": {
      "name": "python"
    }
  },
  "cells": [
    {
      "cell_type": "markdown",
      "source": [
        "# <font color='green'>**Atividade 10 - Maria Luísa**</h1>"
      ],
      "metadata": {
        "id": "ytX8pTDdKGc6"
      }
    },
    {
      "cell_type": "markdown",
      "source": [
        "### Desafio 1\n",
        "\n",
        "Faça a leitura da base de dados de diabetes e realize a divisão dos dados em variáveis explicativas e variável alvo (x e y)."
      ],
      "metadata": {
        "id": "XXpTDkQmqgGT"
      }
    },
    {
      "cell_type": "code",
      "source": [
        "import pandas as pd\n",
        "\n",
        "data = pd.read_csv('diabetes.csv')\n",
        "# Separação de variáveis explicativas (X) e variável alvo (y)\n",
        "X = data.iloc[:, :-1]  # Seleciona todas as colunas menos a última\n",
        "y = data.iloc[:, -1]   # Seleciona a última coluna\n"
      ],
      "metadata": {
        "id": "ILGHdbqPUDB5"
      },
      "execution_count": 38,
      "outputs": []
    },
    {
      "cell_type": "markdown",
      "source": [
        "### Desafio 2\n",
        "\n",
        "Realize a divisão dos dados entre treino e teste."
      ],
      "metadata": {
        "id": "dn6U1p70qw7p"
      }
    },
    {
      "cell_type": "code",
      "source": [
        "from sklearn.model_selection import train_test_split\n",
        "\n",
        "X_train, X_test, y_train, y_test = train_test_split(X, y, test_size=0.2, random_state=42)\n"
      ],
      "metadata": {
        "id": "AKqvmM8QXkHW"
      },
      "execution_count": 39,
      "outputs": []
    },
    {
      "cell_type": "markdown",
      "source": [
        "### Desafio 3\n",
        "\n",
        "Crie 2 modelos utilizando os algoritmos [DecisionTreeClassifier](https://scikit-learn.org/stable/modules/generated/sklearn.tree.DecisionTreeClassifier.html) e [RandomForestClassifer](https://scikit-learn.org/stable/modules/generated/sklearn.ensemble.RandomForestClassifier.html) e avalie a acurácia de treino e teste, escolhendo valores para o parâmetro `max_depth` para os modelos não se especializarem demais no padrão dos dados de treino."
      ],
      "metadata": {
        "id": "IcmuQBIyxHc8"
      }
    },
    {
      "cell_type": "code",
      "source": [
        "from sklearn.tree import DecisionTreeClassifier\n",
        "from sklearn.ensemble import RandomForestClassifier\n",
        "from sklearn.metrics import accuracy_score\n",
        "\n",
        "# Cria o modelo DecisionTreeClassifier\n",
        "dt_model = DecisionTreeClassifier(max_depth=3)\n",
        "dt_model.fit(X_train, y_train)\n",
        "\n",
        "# Avalia a acurácia do modelo DecisionTreeClassifier\n",
        "dt_train_accuracy = accuracy_score(y_train, dt_model.predict(X_train))\n",
        "dt_test_accuracy = accuracy_score(y_test, dt_model.predict(X_test))\n",
        "\n",
        "print(\"Decision Tree - Acurácia de Treino:\", dt_train_accuracy)\n",
        "print(\"Decision Tree - Acurácia de Teste:\", dt_test_accuracy)\n",
        "\n",
        "# Cria o modelo RandomForestClassifier c\n",
        "rf_model = RandomForestClassifier(max_depth=5)\n",
        "rf_model.fit(X_train, y_train)\n",
        "\n",
        "# Avalia a acurácia do modelo RandomForestClassifier\n",
        "rf_train_accuracy = accuracy_score(y_train, rf_model.predict(X_train))\n",
        "rf_test_accuracy = accuracy_score(y_test, rf_model.predict(X_test))\n",
        "\n",
        "print(\"Random Forest - Acurácia de Treino:\", rf_train_accuracy)\n",
        "print(\"Random Forest - Acurácia de Teste:\", rf_test_accuracy)\n"
      ],
      "metadata": {
        "id": "YPeQmyV1YhwA",
        "colab": {
          "base_uri": "https://localhost:8080/"
        },
        "outputId": "5571dcbc-ce29-4e7b-a6de-e780b27f5bd0"
      },
      "execution_count": 40,
      "outputs": [
        {
          "output_type": "stream",
          "name": "stdout",
          "text": [
            "Decision Tree - Acurácia de Treino: 0.746031746031746\n",
            "Decision Tree - Acurácia de Teste: 0.6708860759493671\n",
            "Random Forest - Acurácia de Treino: 0.8952380952380953\n",
            "Random Forest - Acurácia de Teste: 0.7088607594936709\n"
          ]
        }
      ]
    },
    {
      "cell_type": "markdown",
      "source": [
        "### Desafio 4\n",
        "\n",
        "Construa uma matriz de confusão para cada um dos modelos para avaliar o desempenho das previsões."
      ],
      "metadata": {
        "id": "luUySRh5xNL1"
      }
    },
    {
      "cell_type": "code",
      "source": [
        "from sklearn.metrics import confusion_matrix\n",
        "\n",
        "# Matriz de confusão para DecisionTreeClassifier\n",
        "dt_predictions = dt_model.predict(X_test)\n",
        "dt_cm = confusion_matrix(y_test, dt_predictions)\n",
        "print(\"Matriz de Confusão - Decision Tree:\\n\", dt_cm)\n",
        "\n",
        "# Matriz de confusão para RandomForestClassifier\n",
        "rf_predictions = rf_model.predict(X_test)\n",
        "rf_cm = confusion_matrix(y_test, rf_predictions)\n",
        "print(\"\\nMatriz de Confusão - Random Forest:\\n\", rf_cm)\n"
      ],
      "metadata": {
        "id": "_sufI0QkZKvu",
        "colab": {
          "base_uri": "https://localhost:8080/"
        },
        "outputId": "2fadca3d-4e5d-4329-cd89-e12d69685e20"
      },
      "execution_count": 41,
      "outputs": [
        {
          "output_type": "stream",
          "name": "stdout",
          "text": [
            "Matriz de Confusão - Decision Tree:\n",
            " [[43 11]\n",
            " [15 10]]\n",
            "\n",
            "Matriz de Confusão - Random Forest:\n",
            " [[47  7]\n",
            " [16  9]]\n"
          ]
        }
      ]
    },
    {
      "cell_type": "markdown",
      "source": [
        "### Desafio 5\n",
        "\n",
        "Extraia as métricas acurácia, recall, precisão e F1-Score dos modelos de classificação gerados"
      ],
      "metadata": {
        "id": "j3gbWXPaZ6b_"
      }
    },
    {
      "cell_type": "code",
      "source": [
        "from sklearn.metrics import precision_score, recall_score, f1_score\n",
        "\n",
        "# Métricas para DecisionTreeClassifier\n",
        "dt_precision = precision_score(y_test, dt_predictions, average='weighted', zero_division=1)\n",
        "dt_recall = recall_score(y_test, dt_predictions, average='weighted', zero_division=1)\n",
        "dt_f1 = f1_score(y_test, dt_predictions, average='weighted', zero_division=1)\n",
        "\n",
        "print(\"\\nDecision Tree:\")\n",
        "print(\"Precisão:\", dt_precision)\n",
        "print(\"Recall:\", dt_recall)\n",
        "print(\"F1-Score:\", dt_f1)\n",
        "\n",
        "# Métricas para RandomForestClassifier\n",
        "rf_precision = precision_score(y_test, rf_predictions, average='weighted', zero_division=1)\n",
        "rf_recall = recall_score(y_test, rf_predictions, average='weighted', zero_division=1)\n",
        "rf_f1 = f1_score(y_test, rf_predictions, average='weighted', zero_division=1)\n",
        "\n",
        "print(\"\\nRandom Forest:\")\n",
        "print(\"Precisão:\", rf_precision)\n",
        "print(\"Recall:\", rf_recall)\n",
        "print(\"F1-Score:\", rf_f1)\n"
      ],
      "metadata": {
        "id": "b-TqlLAeaKNH",
        "colab": {
          "base_uri": "https://localhost:8080/"
        },
        "outputId": "55cf6baa-ac43-4918-bc04-d8a63c36049d"
      },
      "execution_count": 42,
      "outputs": [
        {
          "output_type": "stream",
          "name": "stdout",
          "text": [
            "\n",
            "Decision Tree:\n",
            "Precisão: 0.6574587932073747\n",
            "Recall: 0.6708860759493671\n",
            "F1-Score: 0.6624538092617345\n",
            "\n",
            "Random Forest:\n",
            "Precisão: 0.6879520795660036\n",
            "Recall: 0.7088607594936709\n",
            "F1-Score: 0.6881041157052272\n"
          ]
        }
      ]
    },
    {
      "cell_type": "markdown",
      "source": [
        "### Desafio 6\n",
        "\n",
        "Obtenha a curva ROC e a métrica AUC dos modelos de classificação gerados no desafio da aula 1, comparando as curvas no mesmo gráfico.\n",
        "\n",
        "*Como uma dica, vasculhe a documentação do `Scikit-learn` a partir deste [link](https://scikit-learn.org/stable/auto_examples/release_highlights/plot_release_highlights_0_22_0.html#new-plotting-api) e verifique uma forma de apresentar os resultados das curvas no mesmo gráfico usando o matplotlib*"
      ],
      "metadata": {
        "id": "Iy6nX8iQZ_JJ"
      }
    },
    {
      "cell_type": "code",
      "source": [
        "from sklearn.metrics import roc_curve, auc\n",
        "import matplotlib.pyplot as plt\n",
        "\n",
        "fpr_dt, tpr_dt, _ = roc_curve(y_test, dt_model.predict_proba(X_test)[:,1])\n",
        "fpr_rf, tpr_rf, _ = roc_curve(y_test, rf_model.predict_proba(X_test)[:,1])\n",
        "roc_auc_dt = auc(fpr_dt, tpr_dt)\n",
        "roc_auc_rf = auc(fpr_rf, tpr_rf)\n",
        "\n",
        "plt.figure()\n",
        "plt.plot(fpr_dt, tpr_dt, color='darkorange', lw=2, label='Decision Tree (AUC = %0.2f)' % roc_auc_dt)\n",
        "plt.plot(fpr_rf, tpr_rf, color='blue', lw=2, label='Random Forest (AUC = %0.2f)' % roc_auc_rf)\n",
        "plt.plot([0, 1], [0, 1], color='navy', lw=2, linestyle='--')\n",
        "plt.xlim([0.0, 1.0])\n",
        "plt.ylim([0.0, 1.05])\n",
        "plt.xlabel('False Positive Rate')\n",
        "plt.ylabel('True Positive Rate')\n",
        "plt.title('Receiver Operating Characteristic')\n",
        "plt.legend(loc=\"lower right\")\n",
        "plt.show()\n"
      ],
      "metadata": {
        "id": "CBfg1CYkdUFr",
        "colab": {
          "base_uri": "https://localhost:8080/",
          "height": 472
        },
        "outputId": "3e020f69-8a54-41af-9502-6336cb30e986"
      },
      "execution_count": 43,
      "outputs": [
        {
          "output_type": "display_data",
          "data": {
            "text/plain": [
              "<Figure size 640x480 with 1 Axes>"
            ],
            "image/png": "[encoded data removed]"
          },
          "metadata": {}
        }
      ]
    },
    {
      "cell_type": "markdown",
      "source": [
        "### Desafio 7\n",
        "\n",
        "Obtenha a curva precisão x recall e a métrica AP dos modelos de classificação gerados, comparando as curvas no mesmo gráfico.\n",
        "\n",
        "*Como uma dica, vasculhe a documentação do `Scikit-learn` a partir deste [link](https://scikit-learn.org/stable/auto_examples/release_highlights/plot_release_highlights_0_22_0.html#new-plotting-api) e verifique uma forma de apresentar os resultados das curvas no mesmo gráfico usando o matplotlib*"
      ],
      "metadata": {
        "id": "MtAISYmrZ_VR"
      }
    },
    {
      "cell_type": "code",
      "source": [
        "from sklearn.metrics import precision_recall_curve, average_precision_score\n",
        "\n",
        "precision_dt, recall_dt, _ = precision_recall_curve(y_test, dt_model.predict_proba(X_test)[:,1])\n",
        "precision_rf, recall_rf, _ = precision_recall_curve(y_test, rf_model.predict_proba(X_test)[:,1])\n",
        "ap_dt = average_precision_score(y_test, dt_model.predict_proba(X_test)[:,1])\n",
        "ap_rf = average_precision_score(y_test, rf_model.predict_proba(X_test)[:,1])\n",
        "\n",
        "plt.figure()\n",
        "plt.plot(recall_dt, precision_dt, color='darkorange', lw=2, label='Decision Tree (AP = %0.2f)' % ap_dt)\n",
        "plt.plot(recall_rf, precision_rf, color='blue', lw=2, label='Random Forest (AP = %0.2f)' % ap_rf)\n",
        "plt.xlabel('Recall')\n",
        "plt.ylabel('Precision')\n",
        "plt.title('Precision-Recall curve')\n",
        "plt.legend(loc=\"lower left\")\n",
        "plt.show()\n"
      ],
      "metadata": {
        "id": "n5UUgmk4af0I",
        "colab": {
          "base_uri": "https://localhost:8080/",
          "height": 472
        },
        "outputId": "cc54fd25-b80b-4d48-f260-f4d07b7e32ee"
      },
      "execution_count": 44,
      "outputs": [
        {
          "output_type": "display_data",
          "data": {
            "text/plain": [
              "<Figure size 640x480 with 1 Axes>"
            ],
            "image/png": "[encoded data removed]"
          },
          "metadata": {}
        }
      ]
    },
    {
      "cell_type": "markdown",
      "source": [
        "### Desafio 8\n",
        "\n",
        "Gere os relatórios de métricas dos modelos de classificação gerados."
      ],
      "metadata": {
        "id": "QC-mYuowZ_YO"
      }
    },
    {
      "cell_type": "code",
      "source": [
        "from sklearn.metrics import classification_report\n",
        "\n",
        "# Gerando os relatórios de classificação para cada modelo\n",
        "report_dt = classification_report(y_test, dt_model.predict(X_test))\n",
        "report_rf = classification_report(y_test, rf_model.predict(X_test))\n",
        "\n",
        "# Exibindo os relatórios\n",
        "print(\"Decision Tree Classification Report:\\n\", report_dt)\n",
        "print(\"Random Forest Classification Report:\\n\", report_rf)\n"
      ],
      "metadata": {
        "id": "AZIfQPpJZ3rG",
        "colab": {
          "base_uri": "https://localhost:8080/"
        },
        "outputId": "0b1fe6e5-cf33-4e55-d15f-a36d39f142ce"
      },
      "execution_count": 45,
      "outputs": [
        {
          "output_type": "stream",
          "name": "stdout",
          "text": [
            "Decision Tree Classification Report:\n",
            "               precision    recall  f1-score   support\n",
            "\n",
            "           0       0.74      0.80      0.77        54\n",
            "           1       0.48      0.40      0.43        25\n",
            "\n",
            "    accuracy                           0.67        79\n",
            "   macro avg       0.61      0.60      0.60        79\n",
            "weighted avg       0.66      0.67      0.66        79\n",
            "\n",
            "Random Forest Classification Report:\n",
            "               precision    recall  f1-score   support\n",
            "\n",
            "           0       0.75      0.87      0.80        54\n",
            "           1       0.56      0.36      0.44        25\n",
            "\n",
            "    accuracy                           0.71        79\n",
            "   macro avg       0.65      0.62      0.62        79\n",
            "weighted avg       0.69      0.71      0.69        79\n",
            "\n"
          ]
        }
      ]
    },
    {
      "cell_type": "markdown",
      "source": [
        "### Desafio 9\n",
        "\n",
        "Crie uma função para calcular o intervalo de confiança dos resultados de uma validação cruzada com 2 desvios padrão. A função precisa ter um parâmetro para receber uma lista com os desempenhos da validação cruzada e outro para apresentar o nome do modelo utilizado na validação cruzada. Exemplo de retorno da função:\n",
        "\n",
        "> Intervalo de confiança (\"nome do modelo\"): [\"valor mínimo do intervalo\", \"valor máximo do intervalo\"]\n",
        "\n"
      ],
      "metadata": {
        "id": "_ksJQ1Ca9Alx"
      }
    },
    {
      "cell_type": "code",
      "source": [
        "import numpy as np\n",
        "\n",
        "# Definindo a função para calcular o intervalo de confiança\n",
        "def confidence_interval(scores, model_name):\n",
        "    mean = np.mean(scores)\n",
        "    margin_error = 2 * np.std(scores)\n",
        "    lower_bound = mean - margin_error\n",
        "    upper_bound = mean + margin_error\n",
        "    return f'Intervalo de confiança (\"{model_name}\"): [{lower_bound:.4f}, {upper_bound:.4f}]'\n",
        "\n",
        "# Exemplo de uso com resultados simulados de validação cruzada\n",
        "scores_example = [0.81, 0.82, 0.80, 0.79, 0.83, 0.85, 0.78, 0.84, 0.82, 0.80]\n",
        "\n",
        "# Calculando o intervalo de confiança para o exemplo de scores de um modelo\n",
        "interval_result = confidence_interval(scores_example, \"Exemplo de Modelo\")\n",
        "\n",
        "# Imprimindo o resultado\n",
        "print(interval_result)\n"
      ],
      "metadata": {
        "colab": {
          "base_uri": "https://localhost:8080/"
        },
        "id": "mSiPlCjHV20u",
        "outputId": "31af37ce-a647-4164-f40a-2c2195f8db0d"
      },
      "execution_count": 46,
      "outputs": [
        {
          "output_type": "stream",
          "name": "stdout",
          "text": [
            "Intervalo de confiança (\"Exemplo de Modelo\"): [0.7719, 0.8561]\n"
          ]
        }
      ]
    },
    {
      "cell_type": "markdown",
      "source": [
        "### Desafio 10\n",
        "\n",
        "Avalie o desempenho dos modelos com um intervalo de confiança utilizando a validação cruzada com o método [`KFold`](https://scikit-learn.org/stable/modules/generated/sklearn.model_selection.KFold.html), usando 10 partes e embaralhando os dados antes da separação. Use o método [`cross_val_score`](https://scikit-learn.org/stable/modules/generated/sklearn.model_selection.cross_val_score.html) que não retorna o tempo de execução, apenas as métricas."
      ],
      "metadata": {
        "id": "aA2RAJvGlCM1"
      }
    },
    {
      "cell_type": "code",
      "source": [
        "from sklearn.model_selection import KFold, cross_val_score\n",
        "\n",
        "kf = KFold(n_splits=10, shuffle=True, random_state=42)\n",
        "\n",
        "scores_dt = cross_val_score(dt_model, X, y, cv=kf)\n",
        "scores_rf = cross_val_score(rf_model, X, y, cv=kf)\n",
        "\n",
        "print(confidence_interval(scores_dt, \"Decision Tree\"))\n",
        "print(confidence_interval(scores_rf, \"Random Forest\"))\n"
      ],
      "metadata": {
        "id": "1jp9GpFwnR3i",
        "colab": {
          "base_uri": "https://localhost:8080/"
        },
        "outputId": "08c248ed-50f8-484a-f3a7-ded3f3a7e778"
      },
      "execution_count": 47,
      "outputs": [
        {
          "output_type": "stream",
          "name": "stdout",
          "text": [
            "Intervalo de confiança (\"Decision Tree\"): [0.5713, 0.7937]\n",
            "Intervalo de confiança (\"Random Forest\"): [0.5630, 0.8326]\n"
          ]
        }
      ]
    },
    {
      "cell_type": "markdown",
      "source": [
        "### Desafio 11\n",
        "\n",
        "Avalie o desempenho dos modelos com um intervalo de confiança utilizando a validação cruzada (`cross_val_score`) com o método [`StratifiedKFold`](https://scikit-learn.org/stable/modules/generated/sklearn.model_selection.StratifiedKFold.html#sklearn.model_selection.StratifiedKFold), usando 10 partes e embaralhando os dados antes da separação e avaliando a métrica F1-Score."
      ],
      "metadata": {
        "id": "FXHAOmL4lFBp"
      }
    },
    {
      "cell_type": "code",
      "source": [
        "from sklearn.model_selection import StratifiedKFold\n",
        "from sklearn.metrics import make_scorer, f1_score\n",
        "\n",
        "skf = StratifiedKFold(n_splits=10, shuffle=True, random_state=42)\n",
        "f1_scorer = make_scorer(f1_score)\n",
        "\n",
        "f1_scores_dt = cross_val_score(dt_model, X, y, cv=skf, scoring=f1_scorer)\n",
        "f1_scores_rf = cross_val_score(rf_model, X, y, cv=skf, scoring=f1_scorer)\n",
        "\n",
        "print(confidence_interval(f1_scores_dt, \"Decision Tree\"))\n",
        "print(confidence_interval(f1_scores_rf, \"Random Forest\"))\n"
      ],
      "metadata": {
        "id": "QeAunVFjnSOi",
        "colab": {
          "base_uri": "https://localhost:8080/"
        },
        "outputId": "ec8c70e2-449b-4317-e19f-c88089712d55"
      },
      "execution_count": 48,
      "outputs": [
        {
          "output_type": "stream",
          "name": "stdout",
          "text": [
            "Intervalo de confiança (\"Decision Tree\"): [0.2024, 0.7574]\n",
            "Intervalo de confiança (\"Random Forest\"): [0.2388, 0.7002]\n"
          ]
        }
      ]
    },
    {
      "cell_type": "markdown",
      "source": [
        "### Desafio 12\n",
        "\n",
        "Avalie o desempenho dos modelos utilizando a validação cruzada (`cross_val_score`) com o método [`LeaveOneOut`](https://scikit-learn.org/stable/modules/generated/sklearn.model_selection.LeaveOneOut.html).\n",
        "\n",
        "O método LeaveOneOut vai gerar um modelo para cada uma das linhas da base de dados, portanto a lista de resultados terá taxa de acerto apenas de 0 ou 1 para cada modelo. Dessa forma, extraia apenas a média do resultado, sem utilizar o intervalo de confiança.\n"
      ],
      "metadata": {
        "id": "PffR585slFHS"
      }
    },
    {
      "cell_type": "code",
      "source": [
        "from sklearn.model_selection import LeaveOneOut\n",
        "\n",
        "loo = LeaveOneOut()\n",
        "loo_scores_dt = cross_val_score(dt_model, X, y, cv=loo)\n",
        "loo_scores_rf = cross_val_score(rf_model, X, y, cv=loo)\n",
        "\n",
        "mean_loo_dt = np.mean(loo_scores_dt)\n",
        "mean_loo_rf = np.mean(loo_scores_rf)\n",
        "\n",
        "print(f\"Média do LeaveOneOut (Decision Tree): {mean_loo_dt:.4f}\")\n",
        "print(f\"Média do LeaveOneOut (Random Forest): {mean_loo_rf:.4f}\")\n"
      ],
      "metadata": {
        "id": "2Fu1i0l9T2F5",
        "colab": {
          "base_uri": "https://localhost:8080/"
        },
        "outputId": "8eac5852-1660-4f3d-848f-98879658e970"
      },
      "execution_count": 49,
      "outputs": [
        {
          "output_type": "stream",
          "name": "stdout",
          "text": [
            "Média do LeaveOneOut (Decision Tree): 0.6701\n",
            "Média do LeaveOneOut (Random Forest): 0.6777\n"
          ]
        }
      ]
    },
    {
      "cell_type": "markdown",
      "source": [
        "### Desafio 13\n",
        "\n",
        "Verifique a proporção de dados da variável alvo do conjunto de dados de diabetes. Essa análise pode ser feita a partir da porcentagem de dados ou com a utilização de um gráfico de contagem para entender se há um desbalanceamento de dados."
      ],
      "metadata": {
        "id": "8H-XGS58Jo97"
      }
    },
    {
      "cell_type": "code",
      "source": [
        "import seaborn as sns\n",
        "import matplotlib.pyplot as plt\n",
        "\n",
        "sns.countplot(x=y)\n",
        "plt.title('Distribuição da Variável Alvo')\n",
        "plt.show()\n",
        "\n",
        "# Verificando a proporção em porcentagem\n",
        "proportion = y.value_counts(normalize=True) * 100\n",
        "print(f\"Proporção da variável alvo:\\n{proportion}\")\n"
      ],
      "metadata": {
        "id": "ymR1fC95T2l5",
        "colab": {
          "base_uri": "https://localhost:8080/",
          "height": 559
        },
        "outputId": "701216b4-145e-4eaa-daec-0ec4ef507d44"
      },
      "execution_count": 50,
      "outputs": [
        {
          "output_type": "display_data",
          "data": {
            "text/plain": [
              "<Figure size 640x480 with 1 Axes>"
            ],
            "image/png": "[encoded data removed]"
          },
          "metadata": {}
        },
        {
          "output_type": "stream",
          "name": "stdout",
          "text": [
            "Proporção da variável alvo:\n",
            "diabetes\n",
            "0    67.005076\n",
            "1    32.994924\n",
            "Name: proportion, dtype: float64\n"
          ]
        }
      ]
    },
    {
      "cell_type": "markdown",
      "source": [
        "### Desafio 15\n",
        "\n",
        " Utilize um [`pipeline`](https://imbalanced-learn.org/stable/references/generated/imblearn.pipeline.Pipeline.html) contendo ajuste do modelo e o balanceamento dos dados usando o undersampling com [`Nearmiss`](https://imbalanced-learn.org/stable/references/generated/imblearn.over_sampling.SMOTE.html) na sua versão 3, obtendo a média do F1-Score de uma validação cruzada com `StratifiedKFold`."
      ],
      "metadata": {
        "id": "rSKJ6r9gJuq0"
      }
    },
    {
      "cell_type": "markdown",
      "source": [
        "### Desafio 14\n",
        "\n",
        "Utilize um [`pipeline`](https://imbalanced-learn.org/stable/references/generated/imblearn.pipeline.Pipeline.html) contendo ajuste do modelo e o balanceamento dos dados usando o oversampling com [`SMOTE`](https://imbalanced-learn.org/stable/references/generated/imblearn.over_sampling.SMOTE.html), obtendo a média do F1-Score de uma validação cruzada com `StratifiedKFold`."
      ],
      "metadata": {
        "id": "OMJ-IW4NJr4M"
      }
    },
    {
      "cell_type": "markdown",
      "source": [
        "### Desafio 16\n",
        "\n",
        "Escolha o modelo que obteve o melhor desempenho ao comparar as estratégias de oversampling e undersampling e realize o teste do modelo nos dados de teste que foram separados no início dos desafios."
      ],
      "metadata": {
        "id": "6ZpXGQyPJwNl"
      }
    }
  ]
}